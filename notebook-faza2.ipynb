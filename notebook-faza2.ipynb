{
 "cells": [
  {
   "cell_type": "markdown",
   "metadata": {},
   "source": [
    "# Chronic Lymphotic Leukemia dataset\n",
    "\n",
    "Pacienti s chronickou leukémiou chodia na pravidelné vyšetrenie, bežne raz za mesiac. Choroba sa lieči ale sa nevylieči. Keď je stav zlepšený, tak môžu chodiť v intervale 3 alebo 6 mesiacov. Laboratórne vyšetrenie sa robí odberom, potom testy v laboratoriách, hodnoty sa sumarizujú a posielajú naspäť lekárom. Každé takéto vyšetrenie má rozsiahle výsledky, ktoré sa hodnotia dlho. Nemocnica vedie aj centrálne záznamy o pacientoch (osobné údaje), kontakty s poisťovňou aj ďalšie potrebné údaje.\n",
    "\n",
    "V záznamoch laboratórnych vyšetrení je závislá premenná (**indikator**) indikujúca stavu choroby pacienta. Ide o indikáciu či patient potrebuje ďalšie laboratórne vyšetrenie v preddefinovanom intervale alebo ten interval sa dá predĺžiť na základe výsledkov laboratorných testov aj osobných údajov pacienta.\n",
    "\n",
    "Pokiaľ má indikátor nenulovú hodnotu, pacientov stav nie je zlepšený a je nutné ďalšie laboratórne vyšetrenie.\n",
    "\n",
    "V dátach sú údaje 3060 ľudí. **SSN - social security number** je ich unique ID.\n",
    "\n"
   ]
  },
  {
   "cell_type": "markdown",
   "metadata": {},
   "source": [
    "| atribút     | poznámka                                           |\n",
    "|-------------|----------------------------------------------------|\n",
    "| hemoglobin  | farbivo červených krviniek                         |\n",
    "| hematocrit  | percentuálne zastúpenie červených krviniek v krvi  |\n",
    "| leukocytes  | biele krvinky                                      |\n",
    "| erytrocytes | červené krvinky                                    |\n",
    "| trombocytes | krvné doštičky                                     |\n",
    "| alt         | alanine aminotransferase enzým                     |\n",
    "| alp         | alkaline phosphatase enzým                         |\n",
    "| ast         | aspartate aminotransferase enzým                   |\n",
    "| er-cv       |                                                    |\n",
    "| etytr       |                                                    |\n",
    "| hbver       |                                                    |\n",
    "\n"
   ]
  },
  {
   "cell_type": "code",
   "execution_count": 1,
   "metadata": {},
   "outputs": [],
   "source": [
    "import matplotlib.pyplot as plt\n",
    "import seaborn as sns\n",
    "import pandas as pd\n",
    "import numpy as np\n",
    "import random\n",
    "import pylab as py\n",
    "import scipy.stats as stats\n",
    "import category_encoders as ce\n",
    "\n",
    "from numpy.random import randn\n",
    "from sklearn.impute import KNNImputer\n",
    "from sklearn.compose import ColumnTransformer\n",
    "from sklearn.preprocessing import MinMaxScaler, StandardScaler, PowerTransformer\n",
    "from sklearn.model_selection import train_test_split\n",
    "from sklearn.feature_selection import SelectKBest, chi2, SelectFromModel\n",
    "from sklearn.svm import LinearSVC, SVR\n",
    "from sklearn.feature_selection import RFE\n",
    "from sklearn.base import TransformerMixin\n",
    "from sklearn.pipeline import Pipeline"
   ]
  },
  {
   "cell_type": "markdown",
   "metadata": {},
   "source": [
    "## Príprava dát"
   ]
  },
  {
   "cell_type": "code",
   "execution_count": 2,
   "metadata": {},
   "outputs": [],
   "source": [
    "filename = \"data/labor.csv\"\n",
    "labor = pd.read_csv(filename, sep='\\t', index_col=0)\n",
    "\n",
    "filename = \"data/profiles.csv\"\n",
    "profiles = pd.read_csv(filename, sep='\\t', index_col=0, parse_dates=['birthdate'])"
   ]
  },
  {
   "cell_type": "markdown",
   "metadata": {},
   "source": [
    "**Tabuľka *labor***\n",
    "- zmena hodnoty *smoker* z 'N' na 'no' z 'Y' na 'yes'\n",
    "- premenovanie názvov stĺpcov\n",
    "- odstraňovanie duplikátov\n",
    "- úprava null hodnôt pomocou vymazania alebo kNN klasifikácie"
   ]
  },
  {
   "cell_type": "code",
   "execution_count": 3,
   "metadata": {},
   "outputs": [],
   "source": [
    "labor['smoker'] = np.where(labor['smoker'] == 'N', 'no', labor['smoker'])\n",
    "labor['smoker'] = np.where(labor['smoker'] == 'Y', 'yes', labor['smoker'])"
   ]
  },
  {
   "cell_type": "code",
   "execution_count": 4,
   "metadata": {},
   "outputs": [],
   "source": [
    "labor.rename(columns = {'hematokrit':'hematocrit', 'leukocyty':'leukocytes', 'erytrocyty':'erytrocytes', 'trombocyty':'trombocytes'}, inplace = True)"
   ]
  },
  {
   "cell_type": "code",
   "execution_count": 5,
   "metadata": {},
   "outputs": [],
   "source": [
    "labor.drop_duplicates(inplace=True)"
   ]
  },
  {
   "cell_type": "code",
   "execution_count": 6,
   "metadata": {},
   "outputs": [
    {
     "data": {
      "text/plain": [
       "name             0\n",
       "hematocrit      30\n",
       "smoker           0\n",
       "leukocytes      30\n",
       "relationship     0\n",
       "ssn              0\n",
       "alt             30\n",
       "weight           0\n",
       "erytrocytes     30\n",
       "alp             30\n",
       "ast             30\n",
       "er-cv           30\n",
       "etytr           30\n",
       "hemoglobin      30\n",
       "trombocytes     30\n",
       "indicator        0\n",
       "hbver           30\n",
       "dtype: int64"
      ]
     },
     "execution_count": 6,
     "metadata": {},
     "output_type": "execute_result"
    }
   ],
   "source": [
    "labor.isnull().sum()"
   ]
  },
  {
   "cell_type": "markdown",
   "metadata": {},
   "source": [
    "V tomto prípade použijeme náhodné rozhodovanie o tom, či zmažeme riadky s null hodnotami alebo nie pretože všetky atribúty majú rovnaký počet týchto hodnôt. V lepšom scenári by sme mohli rozhodovať napríklad podľa počtu null hodnôt - ak by presahovali viac ako 1% veľkosti datasetu, dopĺňali by sme ich."
   ]
  },
  {
   "cell_type": "code",
   "execution_count": 7,
   "metadata": {},
   "outputs": [
    {
     "name": "stdout",
     "output_type": "stream",
     "text": [
      "Odstránených bolo 234 riadkov\n"
     ]
    }
   ],
   "source": [
    "attr = set(labor.columns)\n",
    "before = labor.shape[0]\n",
    "\n",
    "for a in attr:\n",
    "    if labor[a].isnull().sum() > 0:\n",
    "        if random.randint(0,100) < 60:\n",
    "            labor.dropna(subset=[a], inplace=True)\n",
    "\n",
    "print(\"Odstránených bolo %d riadkov\" % (before - labor.shape[0]))"
   ]
  },
  {
   "cell_type": "markdown",
   "metadata": {},
   "source": [
    "Resetovanie indexu po vymazávaní outlierov a dopĺňanie nezmazaných riadkov obsahujúcich NaN hodnoty pomocou kNN imputer. Atribúty *ssn* a *smoker* (nenumerické atribúty) do kNN nevstupujú a z datasetu sa pred spustením kNN odpoja."
   ]
  },
  {
   "cell_type": "code",
   "execution_count": 8,
   "metadata": {},
   "outputs": [],
   "source": [
    "labor = labor.reset_index()\n",
    "labor.drop('index', axis=1, inplace=True)"
   ]
  },
  {
   "cell_type": "code",
   "execution_count": 9,
   "metadata": {},
   "outputs": [],
   "source": [
    "ssn = labor['ssn']\n",
    "smoker = labor['smoker']"
   ]
  },
  {
   "cell_type": "code",
   "execution_count": 10,
   "metadata": {},
   "outputs": [
    {
     "name": "stdout",
     "output_type": "stream",
     "text": [
      "Replacing 89 values\n",
      "NaN values left: 0\n"
     ]
    }
   ],
   "source": [
    "cols = labor.columns\n",
    "index = cols.get_loc(\"indicator\")\n",
    "\n",
    "y = labor.indicator\n",
    "colnames_numerics_only = labor.select_dtypes(include=np.number).columns.tolist()\n",
    "X = labor[colnames_numerics_only]\n",
    "X = X.drop('indicator', axis=1)\n",
    "\n",
    "print('Replacing %d values' % np.isnan(X).sum().sum())\n",
    "\n",
    "imputer = KNNImputer()\n",
    "labor = pd.DataFrame(imputer.fit_transform(X),columns = X.columns)\n",
    "\n",
    "labor.insert(loc=0, column='indicator', value=y)\n",
    "\n",
    "\n",
    "print('NaN values left: %d' % np.isnan(labor).sum().sum())\n",
    "\n",
    "labor.insert(loc=1, column='ssn', value=ssn)\n",
    "labor.insert(loc=1, column='smoker', value=smoker)"
   ]
  },
  {
   "cell_type": "code",
   "execution_count": 11,
   "metadata": {},
   "outputs": [
    {
     "data": {
      "text/plain": [
       "indicator      0\n",
       "smoker         0\n",
       "ssn            0\n",
       "hematocrit     0\n",
       "leukocytes     0\n",
       "alt            0\n",
       "weight         0\n",
       "erytrocytes    0\n",
       "alp            0\n",
       "ast            0\n",
       "er-cv          0\n",
       "etytr          0\n",
       "hemoglobin     0\n",
       "trombocytes    0\n",
       "hbver          0\n",
       "dtype: int64"
      ]
     },
     "execution_count": 11,
     "metadata": {},
     "output_type": "execute_result"
    }
   ],
   "source": [
    "labor.isnull().sum()"
   ]
  },
  {
   "cell_type": "markdown",
   "metadata": {},
   "source": [
    "**Spojenie tabuliek**\n",
    "\n",
    "Na uľahčenie práce s dátami vytvoríme jednu tabuľku - *data*, ktorá je spojená podľa unikátneho identifikátora *ssn*.\n",
    "\n",
    "Sú v nej zahrnuté iba relevantné atribúty, ktoré sa v predchádzajúcej fáze osvedčili ako informatívne."
   ]
  },
  {
   "cell_type": "code",
   "execution_count": 12,
   "metadata": {},
   "outputs": [
    {
     "data": {
      "text/html": [
       "<div>\n",
       "<style scoped>\n",
       "    .dataframe tbody tr th:only-of-type {\n",
       "        vertical-align: middle;\n",
       "    }\n",
       "\n",
       "    .dataframe tbody tr th {\n",
       "        vertical-align: top;\n",
       "    }\n",
       "\n",
       "    .dataframe thead th {\n",
       "        text-align: right;\n",
       "    }\n",
       "</style>\n",
       "<table border=\"1\" class=\"dataframe\">\n",
       "  <thead>\n",
       "    <tr style=\"text-align: right;\">\n",
       "      <th></th>\n",
       "      <th>etytr</th>\n",
       "      <th>trombocytes</th>\n",
       "      <th>sex</th>\n",
       "      <th>hematocrit</th>\n",
       "      <th>indicator</th>\n",
       "      <th>erytrocytes</th>\n",
       "      <th>hbver</th>\n",
       "      <th>smoker</th>\n",
       "      <th>leukocytes</th>\n",
       "      <th>blood_group</th>\n",
       "      <th>alp</th>\n",
       "      <th>alt</th>\n",
       "      <th>er-cv</th>\n",
       "      <th>ast</th>\n",
       "      <th>hemoglobin</th>\n",
       "    </tr>\n",
       "  </thead>\n",
       "  <tbody>\n",
       "    <tr>\n",
       "      <th>0</th>\n",
       "      <td>6.93084</td>\n",
       "      <td>2.43339</td>\n",
       "      <td>F</td>\n",
       "      <td>5.10789</td>\n",
       "      <td>0.0</td>\n",
       "      <td>7.92270</td>\n",
       "      <td>6.73439</td>\n",
       "      <td>no</td>\n",
       "      <td>3.67594</td>\n",
       "      <td>AB+</td>\n",
       "      <td>80.65839</td>\n",
       "      <td>1.36076</td>\n",
       "      <td>46.67907</td>\n",
       "      <td>40.27331</td>\n",
       "      <td>7.07385</td>\n",
       "    </tr>\n",
       "    <tr>\n",
       "      <th>1</th>\n",
       "      <td>6.17378</td>\n",
       "      <td>3.16922</td>\n",
       "      <td>M</td>\n",
       "      <td>6.06717</td>\n",
       "      <td>0.0</td>\n",
       "      <td>7.13748</td>\n",
       "      <td>6.69188</td>\n",
       "      <td>no</td>\n",
       "      <td>6.61722</td>\n",
       "      <td>A-</td>\n",
       "      <td>95.49950</td>\n",
       "      <td>1.10335</td>\n",
       "      <td>21.09764</td>\n",
       "      <td>51.14865</td>\n",
       "      <td>6.30636</td>\n",
       "    </tr>\n",
       "  </tbody>\n",
       "</table>\n",
       "</div>"
      ],
      "text/plain": [
       "     etytr  trombocytes sex  hematocrit  indicator  erytrocytes    hbver  \\\n",
       "0  6.93084      2.43339   F     5.10789        0.0      7.92270  6.73439   \n",
       "1  6.17378      3.16922   M     6.06717        0.0      7.13748  6.69188   \n",
       "\n",
       "  smoker  leukocytes blood_group       alp      alt     er-cv       ast  \\\n",
       "0     no     3.67594         AB+  80.65839  1.36076  46.67907  40.27331   \n",
       "1     no     6.61722          A-  95.49950  1.10335  21.09764  51.14865   \n",
       "\n",
       "   hemoglobin  \n",
       "0     7.07385  \n",
       "1     6.30636  "
      ]
     },
     "execution_count": 12,
     "metadata": {},
     "output_type": "execute_result"
    }
   ],
   "source": [
    "data = labor.merge(profiles, how='left', on='ssn')\n",
    "\n",
    "include = set(data.columns) - {'birthdate', 'company', 'job', 'name_x', 'name_y', 'address', 'ssn', 'race', 'relationship', 'weight', 'name'}\n",
    "data = data[list(include)]\n",
    "data.head(2)"
   ]
  },
  {
   "cell_type": "markdown",
   "metadata": {},
   "source": [
    "____\n",
    "## Integrácia a čistenie dát\n",
    "### Kódovanie dát na číselné hodnoty\n",
    "\n",
    "- *smoker* - hodnota 'no' na 0 a 'yes' na 1\n",
    "- *sex* - hodnota 'M' na 0 a 'F' na 1\n",
    "- *blood_group* namapovaný ako 0+, A-, 0-, B+, B-, A+, AB+, AB- = 1, 2, 3, 4, 5, 6, 7, 8\n",
    "\n",
    "\n",
    "Všetky tieto hodnoty sú nominálne - jednotlivé vlastnosti spolu nesúvisia, a tak je treba použiť OneHotEncoder. Nakoľko však vytvára nové stĺpce, nie je vhodnou voľbou pre kódovanie rozsiahleho *blood_group* atribútu."
   ]
  },
  {
   "cell_type": "code",
   "execution_count": 13,
   "metadata": {
    "scrolled": true
   },
   "outputs": [],
   "source": [
    "ohe = ce.OneHotEncoder(cols=['smoker'])\n",
    "data = ohe.fit_transform(data)\n",
    "data.rename(columns = {'smoker_1':'smoker_no', 'smoker_2':'smoker_yes'}, inplace = True)\n",
    "\n",
    "ohe = ce.OneHotEncoder(cols=['sex'])\n",
    "data = ohe.fit_transform(data)\n",
    "data.rename(columns = {'sex_1':'male', 'sex_2':'female'},  inplace = True)"
   ]
  },
  {
   "cell_type": "code",
   "execution_count": 14,
   "metadata": {},
   "outputs": [],
   "source": [
    "ce_ordinal_blood = ce.OrdinalEncoder(cols=['blood_group'])\n",
    "data = ce_ordinal_blood.fit_transform(data)"
   ]
  },
  {
   "cell_type": "code",
   "execution_count": 15,
   "metadata": {},
   "outputs": [
    {
     "data": {
      "text/html": [
       "<div>\n",
       "<style scoped>\n",
       "    .dataframe tbody tr th:only-of-type {\n",
       "        vertical-align: middle;\n",
       "    }\n",
       "\n",
       "    .dataframe tbody tr th {\n",
       "        vertical-align: top;\n",
       "    }\n",
       "\n",
       "    .dataframe thead th {\n",
       "        text-align: right;\n",
       "    }\n",
       "</style>\n",
       "<table border=\"1\" class=\"dataframe\">\n",
       "  <thead>\n",
       "    <tr style=\"text-align: right;\">\n",
       "      <th></th>\n",
       "      <th>etytr</th>\n",
       "      <th>trombocytes</th>\n",
       "      <th>male</th>\n",
       "      <th>female</th>\n",
       "      <th>hematocrit</th>\n",
       "      <th>indicator</th>\n",
       "      <th>erytrocytes</th>\n",
       "      <th>hbver</th>\n",
       "      <th>smoker_no</th>\n",
       "      <th>smoker_yes</th>\n",
       "      <th>leukocytes</th>\n",
       "      <th>blood_group</th>\n",
       "      <th>alp</th>\n",
       "      <th>alt</th>\n",
       "      <th>er-cv</th>\n",
       "      <th>ast</th>\n",
       "      <th>hemoglobin</th>\n",
       "    </tr>\n",
       "  </thead>\n",
       "  <tbody>\n",
       "    <tr>\n",
       "      <th>0</th>\n",
       "      <td>6.93084</td>\n",
       "      <td>2.43339</td>\n",
       "      <td>1</td>\n",
       "      <td>0</td>\n",
       "      <td>5.10789</td>\n",
       "      <td>0.0</td>\n",
       "      <td>7.92270</td>\n",
       "      <td>6.73439</td>\n",
       "      <td>1</td>\n",
       "      <td>0</td>\n",
       "      <td>3.67594</td>\n",
       "      <td>1</td>\n",
       "      <td>80.65839</td>\n",
       "      <td>1.36076</td>\n",
       "      <td>46.67907</td>\n",
       "      <td>40.27331</td>\n",
       "      <td>7.07385</td>\n",
       "    </tr>\n",
       "    <tr>\n",
       "      <th>1</th>\n",
       "      <td>6.17378</td>\n",
       "      <td>3.16922</td>\n",
       "      <td>0</td>\n",
       "      <td>1</td>\n",
       "      <td>6.06717</td>\n",
       "      <td>0.0</td>\n",
       "      <td>7.13748</td>\n",
       "      <td>6.69188</td>\n",
       "      <td>1</td>\n",
       "      <td>0</td>\n",
       "      <td>6.61722</td>\n",
       "      <td>2</td>\n",
       "      <td>95.49950</td>\n",
       "      <td>1.10335</td>\n",
       "      <td>21.09764</td>\n",
       "      <td>51.14865</td>\n",
       "      <td>6.30636</td>\n",
       "    </tr>\n",
       "    <tr>\n",
       "      <th>2</th>\n",
       "      <td>7.25101</td>\n",
       "      <td>5.54453</td>\n",
       "      <td>1</td>\n",
       "      <td>0</td>\n",
       "      <td>8.52161</td>\n",
       "      <td>0.0</td>\n",
       "      <td>9.11128</td>\n",
       "      <td>6.08754</td>\n",
       "      <td>0</td>\n",
       "      <td>1</td>\n",
       "      <td>8.76540</td>\n",
       "      <td>3</td>\n",
       "      <td>57.21363</td>\n",
       "      <td>3.08378</td>\n",
       "      <td>67.05110</td>\n",
       "      <td>57.61393</td>\n",
       "      <td>7.74219</td>\n",
       "    </tr>\n",
       "    <tr>\n",
       "      <th>3</th>\n",
       "      <td>6.18335</td>\n",
       "      <td>5.34519</td>\n",
       "      <td>0</td>\n",
       "      <td>1</td>\n",
       "      <td>4.35962</td>\n",
       "      <td>0.0</td>\n",
       "      <td>9.68805</td>\n",
       "      <td>6.34100</td>\n",
       "      <td>1</td>\n",
       "      <td>0</td>\n",
       "      <td>6.61320</td>\n",
       "      <td>2</td>\n",
       "      <td>82.12788</td>\n",
       "      <td>5.08135</td>\n",
       "      <td>53.04260</td>\n",
       "      <td>75.41991</td>\n",
       "      <td>5.69975</td>\n",
       "    </tr>\n",
       "  </tbody>\n",
       "</table>\n",
       "</div>"
      ],
      "text/plain": [
       "     etytr  trombocytes  male  female  hematocrit  indicator  erytrocytes  \\\n",
       "0  6.93084      2.43339     1       0     5.10789        0.0      7.92270   \n",
       "1  6.17378      3.16922     0       1     6.06717        0.0      7.13748   \n",
       "2  7.25101      5.54453     1       0     8.52161        0.0      9.11128   \n",
       "3  6.18335      5.34519     0       1     4.35962        0.0      9.68805   \n",
       "\n",
       "     hbver  smoker_no  smoker_yes  leukocytes  blood_group       alp      alt  \\\n",
       "0  6.73439          1           0     3.67594            1  80.65839  1.36076   \n",
       "1  6.69188          1           0     6.61722            2  95.49950  1.10335   \n",
       "2  6.08754          0           1     8.76540            3  57.21363  3.08378   \n",
       "3  6.34100          1           0     6.61320            2  82.12788  5.08135   \n",
       "\n",
       "      er-cv       ast  hemoglobin  \n",
       "0  46.67907  40.27331     7.07385  \n",
       "1  21.09764  51.14865     6.30636  \n",
       "2  67.05110  57.61393     7.74219  \n",
       "3  53.04260  75.41991     5.69975  "
      ]
     },
     "execution_count": 15,
     "metadata": {},
     "output_type": "execute_result"
    }
   ],
   "source": [
    "data.head(4)"
   ]
  },
  {
   "cell_type": "markdown",
   "metadata": {},
   "source": [
    "____\n",
    "### Outlier detection\n"
   ]
  },
  {
   "cell_type": "markdown",
   "metadata": {},
   "source": [
    "Na identifikovanie a upravovanie outlierov použijeme interquartile range metódu. Pokiaľ je počet outlierov nižší ako 1% datasetu, zmažú sa. V opačnom prípade sa ich hodnoty upravujú."
   ]
  },
  {
   "cell_type": "code",
   "execution_count": 16,
   "metadata": {},
   "outputs": [],
   "source": [
    "def identify_outliers(a):\n",
    "    lower = a.quantile(0.25) - 1.5 * stats.iqr(a)\n",
    "    upper = a.quantile(0.75) + 1.5 * stats.iqr(a)\n",
    "    \n",
    "    return a[(a > upper) | (a < lower)]"
   ]
  },
  {
   "cell_type": "code",
   "execution_count": 17,
   "metadata": {},
   "outputs": [],
   "source": [
    "def delete_or_keep_outliers(n):\n",
    "    if n < len(data) * 0.01:\n",
    "        print(\"Delete outliers\")\n",
    "    else:\n",
    "        print(\"Keep outliers\")"
   ]
  },
  {
   "cell_type": "code",
   "execution_count": 18,
   "metadata": {},
   "outputs": [],
   "source": [
    "def change_outliers(a):\n",
    "    lower = data[a].quantile(0.25) - 1.5 * stats.iqr(data[a])\n",
    "    upper = data[a].quantile(0.75) + 1.5 * stats.iqr(data[a])\n",
    "        \n",
    "    return np.where(data[a] > upper, upper, np.where(data[a] < lower, lower, data[a]))"
   ]
  },
  {
   "cell_type": "markdown",
   "metadata": {},
   "source": [
    "**Alp**"
   ]
  },
  {
   "cell_type": "code",
   "execution_count": 19,
   "metadata": {
    "scrolled": true
   },
   "outputs": [
    {
     "name": "stdout",
     "output_type": "stream",
     "text": [
      "Identified outliers: 472\n",
      "Keep outliers\n"
     ]
    }
   ],
   "source": [
    "out = identify_outliers(data.alp)\n",
    "print('Identified outliers: %d' % len(out))\n",
    "delete_or_keep_outliers(len(out))"
   ]
  },
  {
   "cell_type": "code",
   "execution_count": 20,
   "metadata": {},
   "outputs": [],
   "source": [
    "data['alp'] = change_outliers('alp')"
   ]
  },
  {
   "cell_type": "markdown",
   "metadata": {},
   "source": [
    "**Alt**"
   ]
  },
  {
   "cell_type": "code",
   "execution_count": 21,
   "metadata": {},
   "outputs": [
    {
     "name": "stdout",
     "output_type": "stream",
     "text": [
      "Identified outliers: 982\n",
      "Keep outliers\n"
     ]
    }
   ],
   "source": [
    "out = identify_outliers(data.alt)\n",
    "print('Identified outliers: %d' % len(out))\n",
    "delete_or_keep_outliers(len(out))"
   ]
  },
  {
   "cell_type": "code",
   "execution_count": 22,
   "metadata": {},
   "outputs": [],
   "source": [
    "data['alt'] = change_outliers('alt')"
   ]
  },
  {
   "cell_type": "markdown",
   "metadata": {},
   "source": [
    "**Ast**"
   ]
  },
  {
   "cell_type": "code",
   "execution_count": 23,
   "metadata": {},
   "outputs": [
    {
     "name": "stdout",
     "output_type": "stream",
     "text": [
      "Identified outliers: 77\n",
      "Delete outliers\n"
     ]
    }
   ],
   "source": [
    "out = identify_outliers(data.ast)\n",
    "print('Identified outliers: %d' % len(out))\n",
    "delete_or_keep_outliers(len(out))"
   ]
  },
  {
   "cell_type": "code",
   "execution_count": 24,
   "metadata": {},
   "outputs": [],
   "source": [
    "data = data.drop(out.index)"
   ]
  },
  {
   "cell_type": "markdown",
   "metadata": {},
   "source": [
    "**Etytr**"
   ]
  },
  {
   "cell_type": "code",
   "execution_count": 25,
   "metadata": {},
   "outputs": [
    {
     "name": "stdout",
     "output_type": "stream",
     "text": [
      "Identified outliers: 69\n",
      "Delete outliers\n"
     ]
    }
   ],
   "source": [
    "out = identify_outliers(data.etytr)\n",
    "print('Identified outliers: %d' % len(out))\n",
    "delete_or_keep_outliers(len(out))"
   ]
  },
  {
   "cell_type": "code",
   "execution_count": 26,
   "metadata": {},
   "outputs": [],
   "source": [
    "data = data.drop(out.index)"
   ]
  },
  {
   "cell_type": "markdown",
   "metadata": {},
   "source": [
    "**Er-cv**"
   ]
  },
  {
   "cell_type": "code",
   "execution_count": 27,
   "metadata": {
    "scrolled": true
   },
   "outputs": [
    {
     "name": "stdout",
     "output_type": "stream",
     "text": [
      "Identified outliers: 80\n",
      "Delete outliers\n"
     ]
    }
   ],
   "source": [
    "out = identify_outliers(data['er-cv'])\n",
    "print('Identified outliers: %d' % len(out))\n",
    "delete_or_keep_outliers(len(out))"
   ]
  },
  {
   "cell_type": "code",
   "execution_count": 28,
   "metadata": {},
   "outputs": [],
   "source": [
    "data = data.drop(out.index)"
   ]
  },
  {
   "cell_type": "markdown",
   "metadata": {},
   "source": [
    "**Erytrocytes**"
   ]
  },
  {
   "cell_type": "code",
   "execution_count": 29,
   "metadata": {},
   "outputs": [
    {
     "name": "stdout",
     "output_type": "stream",
     "text": [
      "Identified outliers: 12\n",
      "Delete outliers\n"
     ]
    }
   ],
   "source": [
    "out = identify_outliers(data.erytrocytes)\n",
    "print('Identified outliers: %d' % len(out))\n",
    "delete_or_keep_outliers(len(out))"
   ]
  },
  {
   "cell_type": "code",
   "execution_count": 30,
   "metadata": {},
   "outputs": [],
   "source": [
    "data = data.drop(out.index)"
   ]
  },
  {
   "cell_type": "markdown",
   "metadata": {},
   "source": [
    "**Hbver**"
   ]
  },
  {
   "cell_type": "code",
   "execution_count": 31,
   "metadata": {},
   "outputs": [
    {
     "name": "stdout",
     "output_type": "stream",
     "text": [
      "Identified outliers: 81\n",
      "Delete outliers\n"
     ]
    }
   ],
   "source": [
    "out = identify_outliers(data.hbver)\n",
    "print('Identified outliers: %d' % len(out))\n",
    "delete_or_keep_outliers(len(out))"
   ]
  },
  {
   "cell_type": "code",
   "execution_count": 32,
   "metadata": {},
   "outputs": [],
   "source": [
    "data = data.drop(out.index)"
   ]
  },
  {
   "cell_type": "markdown",
   "metadata": {},
   "source": [
    "**Hematocrit**"
   ]
  },
  {
   "cell_type": "code",
   "execution_count": 33,
   "metadata": {},
   "outputs": [
    {
     "name": "stdout",
     "output_type": "stream",
     "text": [
      "Identified outliers: 15\n",
      "Delete outliers\n"
     ]
    }
   ],
   "source": [
    "out = identify_outliers(data.hematocrit)\n",
    "print('Identified outliers: %d' % len(out))\n",
    "delete_or_keep_outliers(len(out))"
   ]
  },
  {
   "cell_type": "code",
   "execution_count": 34,
   "metadata": {},
   "outputs": [],
   "source": [
    "data = data.drop(out.index)"
   ]
  },
  {
   "cell_type": "markdown",
   "metadata": {},
   "source": [
    "**Hemoglobin**"
   ]
  },
  {
   "cell_type": "code",
   "execution_count": 35,
   "metadata": {},
   "outputs": [
    {
     "name": "stdout",
     "output_type": "stream",
     "text": [
      "Identified outliers: 73\n",
      "Delete outliers\n"
     ]
    }
   ],
   "source": [
    "out = identify_outliers(data.hemoglobin)\n",
    "print('Identified outliers: %d' % len(out))\n",
    "delete_or_keep_outliers(len(out))"
   ]
  },
  {
   "cell_type": "code",
   "execution_count": 36,
   "metadata": {},
   "outputs": [],
   "source": [
    "data = data.drop(out.index)"
   ]
  },
  {
   "cell_type": "markdown",
   "metadata": {},
   "source": [
    "**Leukocytes**"
   ]
  },
  {
   "cell_type": "code",
   "execution_count": 37,
   "metadata": {},
   "outputs": [
    {
     "name": "stdout",
     "output_type": "stream",
     "text": [
      "Identified outliers: 6\n",
      "Delete outliers\n"
     ]
    }
   ],
   "source": [
    "out = identify_outliers(data.leukocytes)\n",
    "print('Identified outliers: %d' % len(out))\n",
    "delete_or_keep_outliers(len(out))"
   ]
  },
  {
   "cell_type": "code",
   "execution_count": 38,
   "metadata": {},
   "outputs": [],
   "source": [
    "data = data.drop(out.index)"
   ]
  },
  {
   "cell_type": "markdown",
   "metadata": {},
   "source": [
    "**Trombocytes**"
   ]
  },
  {
   "cell_type": "code",
   "execution_count": 39,
   "metadata": {},
   "outputs": [
    {
     "name": "stdout",
     "output_type": "stream",
     "text": [
      "Identified outliers: 48\n",
      "Delete outliers\n"
     ]
    }
   ],
   "source": [
    "out = identify_outliers(data.trombocytes)\n",
    "print('Identified outliers: %d' % len(out))\n",
    "delete_or_keep_outliers(len(out))"
   ]
  },
  {
   "cell_type": "code",
   "execution_count": 40,
   "metadata": {},
   "outputs": [],
   "source": [
    "data = data.drop(out.index)"
   ]
  },
  {
   "cell_type": "markdown",
   "metadata": {},
   "source": [
    "Zresetovanie indexov po všetkých mazaniach hodnôt."
   ]
  },
  {
   "cell_type": "code",
   "execution_count": 41,
   "metadata": {},
   "outputs": [
    {
     "data": {
      "text/plain": [
       "(9245, 17)"
      ]
     },
     "execution_count": 41,
     "metadata": {},
     "output_type": "execute_result"
    }
   ],
   "source": [
    "data = data.reset_index()\n",
    "data.drop('index', axis=1, inplace=True)\n",
    "\n",
    "data.shape"
   ]
  },
  {
   "cell_type": "markdown",
   "metadata": {},
   "source": [
    "Skopírovanie dataframe pre posledný bod pre zachovanie dát"
   ]
  },
  {
   "cell_type": "code",
   "execution_count": 42,
   "metadata": {},
   "outputs": [],
   "source": [
    "dataforPipe = data.copy(deep=True)"
   ]
  },
  {
   "cell_type": "markdown",
   "metadata": {},
   "source": [
    "## Realizácia predspracovania dát "
   ]
  },
  {
   "cell_type": "markdown",
   "metadata": {},
   "source": [
    "### Rozdelenie na trénovaciu a testovaciu množinu\n",
    "Rozdelenie v pomere 80:20"
   ]
  },
  {
   "cell_type": "code",
   "execution_count": 44,
   "metadata": {},
   "outputs": [
    {
     "name": "stdout",
     "output_type": "stream",
     "text": [
      "(7396, 16) (1849, 16) (7396,) (1849,)\n"
     ]
    }
   ],
   "source": [
    "y = data.indicator\n",
    "X = data.drop('indicator', axis=1)\n",
    "\n",
    "X_train, X_test, y_train, y_test = train_test_split(X, y, test_size=0.20, random_state=1, stratify=y)\n",
    "print(X_train.shape, X_test.shape, y_train.shape, y_test.shape)"
   ]
  },
  {
   "cell_type": "code",
   "execution_count": 45,
   "metadata": {},
   "outputs": [],
   "source": [
    "data = X_train"
   ]
  },
  {
   "cell_type": "code",
   "execution_count": 46,
   "metadata": {},
   "outputs": [
    {
     "data": {
      "text/html": [
       "<div>\n",
       "<style scoped>\n",
       "    .dataframe tbody tr th:only-of-type {\n",
       "        vertical-align: middle;\n",
       "    }\n",
       "\n",
       "    .dataframe tbody tr th {\n",
       "        vertical-align: top;\n",
       "    }\n",
       "\n",
       "    .dataframe thead th {\n",
       "        text-align: right;\n",
       "    }\n",
       "</style>\n",
       "<table border=\"1\" class=\"dataframe\">\n",
       "  <thead>\n",
       "    <tr style=\"text-align: right;\">\n",
       "      <th></th>\n",
       "      <th>etytr</th>\n",
       "      <th>trombocytes</th>\n",
       "      <th>male</th>\n",
       "      <th>female</th>\n",
       "      <th>hematocrit</th>\n",
       "      <th>erytrocytes</th>\n",
       "      <th>hbver</th>\n",
       "      <th>smoker_no</th>\n",
       "      <th>smoker_yes</th>\n",
       "      <th>leukocytes</th>\n",
       "      <th>blood_group</th>\n",
       "      <th>alp</th>\n",
       "      <th>alt</th>\n",
       "      <th>er-cv</th>\n",
       "      <th>ast</th>\n",
       "      <th>hemoglobin</th>\n",
       "    </tr>\n",
       "  </thead>\n",
       "  <tbody>\n",
       "    <tr>\n",
       "      <th>count</th>\n",
       "      <td>7396.000000</td>\n",
       "      <td>7396.000000</td>\n",
       "      <td>7396.000000</td>\n",
       "      <td>7396.000000</td>\n",
       "      <td>7396.000000</td>\n",
       "      <td>7396.000000</td>\n",
       "      <td>7396.000000</td>\n",
       "      <td>7396.000000</td>\n",
       "      <td>7396.000000</td>\n",
       "      <td>7396.000000</td>\n",
       "      <td>7396.000000</td>\n",
       "      <td>7396.000000</td>\n",
       "      <td>7396.000000</td>\n",
       "      <td>7396.000000</td>\n",
       "      <td>7396.000000</td>\n",
       "      <td>7396.000000</td>\n",
       "    </tr>\n",
       "    <tr>\n",
       "      <th>mean</th>\n",
       "      <td>6.473264</td>\n",
       "      <td>6.853303</td>\n",
       "      <td>0.500676</td>\n",
       "      <td>0.499324</td>\n",
       "      <td>6.449351</td>\n",
       "      <td>6.904693</td>\n",
       "      <td>6.473023</td>\n",
       "      <td>0.607220</td>\n",
       "      <td>0.392780</td>\n",
       "      <td>6.441194</td>\n",
       "      <td>4.462277</td>\n",
       "      <td>72.772618</td>\n",
       "      <td>1.043470</td>\n",
       "      <td>49.243409</td>\n",
       "      <td>52.189304</td>\n",
       "      <td>6.463055</td>\n",
       "    </tr>\n",
       "    <tr>\n",
       "      <th>std</th>\n",
       "      <td>0.967201</td>\n",
       "      <td>1.700994</td>\n",
       "      <td>0.500033</td>\n",
       "      <td>0.500033</td>\n",
       "      <td>1.654031</td>\n",
       "      <td>1.595154</td>\n",
       "      <td>0.956219</td>\n",
       "      <td>0.488402</td>\n",
       "      <td>0.488402</td>\n",
       "      <td>1.690212</td>\n",
       "      <td>2.286997</td>\n",
       "      <td>16.405081</td>\n",
       "      <td>0.711056</td>\n",
       "      <td>12.749150</td>\n",
       "      <td>11.495062</td>\n",
       "      <td>0.973403</td>\n",
       "    </tr>\n",
       "    <tr>\n",
       "      <th>min</th>\n",
       "      <td>3.793790</td>\n",
       "      <td>2.053750</td>\n",
       "      <td>0.000000</td>\n",
       "      <td>0.000000</td>\n",
       "      <td>1.760910</td>\n",
       "      <td>2.335850</td>\n",
       "      <td>3.811080</td>\n",
       "      <td>0.000000</td>\n",
       "      <td>0.000000</td>\n",
       "      <td>1.734990</td>\n",
       "      <td>1.000000</td>\n",
       "      <td>32.088417</td>\n",
       "      <td>0.026580</td>\n",
       "      <td>14.477540</td>\n",
       "      <td>20.880870</td>\n",
       "      <td>3.773490</td>\n",
       "    </tr>\n",
       "    <tr>\n",
       "      <th>25%</th>\n",
       "      <td>5.794548</td>\n",
       "      <td>5.684860</td>\n",
       "      <td>0.000000</td>\n",
       "      <td>0.000000</td>\n",
       "      <td>5.197680</td>\n",
       "      <td>5.756907</td>\n",
       "      <td>5.824005</td>\n",
       "      <td>0.000000</td>\n",
       "      <td>0.000000</td>\n",
       "      <td>5.173930</td>\n",
       "      <td>2.000000</td>\n",
       "      <td>64.390518</td>\n",
       "      <td>0.523510</td>\n",
       "      <td>40.563688</td>\n",
       "      <td>44.454560</td>\n",
       "      <td>5.802087</td>\n",
       "    </tr>\n",
       "    <tr>\n",
       "      <th>50%</th>\n",
       "      <td>6.473235</td>\n",
       "      <td>7.008090</td>\n",
       "      <td>1.000000</td>\n",
       "      <td>0.000000</td>\n",
       "      <td>6.222725</td>\n",
       "      <td>7.036800</td>\n",
       "      <td>6.480965</td>\n",
       "      <td>1.000000</td>\n",
       "      <td>0.000000</td>\n",
       "      <td>6.339970</td>\n",
       "      <td>4.000000</td>\n",
       "      <td>78.400945</td>\n",
       "      <td>0.777580</td>\n",
       "      <td>49.099245</td>\n",
       "      <td>52.188470</td>\n",
       "      <td>6.474755</td>\n",
       "    </tr>\n",
       "    <tr>\n",
       "      <th>75%</th>\n",
       "      <td>7.141743</td>\n",
       "      <td>8.084315</td>\n",
       "      <td>1.000000</td>\n",
       "      <td>1.000000</td>\n",
       "      <td>7.682100</td>\n",
       "      <td>8.042610</td>\n",
       "      <td>7.129435</td>\n",
       "      <td>1.000000</td>\n",
       "      <td>1.000000</td>\n",
       "      <td>7.690295</td>\n",
       "      <td>6.000000</td>\n",
       "      <td>84.989178</td>\n",
       "      <td>1.346920</td>\n",
       "      <td>58.036563</td>\n",
       "      <td>59.933165</td>\n",
       "      <td>7.129347</td>\n",
       "    </tr>\n",
       "    <tr>\n",
       "      <th>max</th>\n",
       "      <td>9.159010</td>\n",
       "      <td>11.689190</td>\n",
       "      <td>1.000000</td>\n",
       "      <td>1.000000</td>\n",
       "      <td>11.303560</td>\n",
       "      <td>11.440480</td>\n",
       "      <td>9.132920</td>\n",
       "      <td>1.000000</td>\n",
       "      <td>1.000000</td>\n",
       "      <td>11.291590</td>\n",
       "      <td>8.000000</td>\n",
       "      <td>100.000000</td>\n",
       "      <td>2.578226</td>\n",
       "      <td>83.734840</td>\n",
       "      <td>83.807330</td>\n",
       "      <td>9.155650</td>\n",
       "    </tr>\n",
       "  </tbody>\n",
       "</table>\n",
       "</div>"
      ],
      "text/plain": [
       "             etytr  trombocytes         male       female   hematocrit  \\\n",
       "count  7396.000000  7396.000000  7396.000000  7396.000000  7396.000000   \n",
       "mean      6.473264     6.853303     0.500676     0.499324     6.449351   \n",
       "std       0.967201     1.700994     0.500033     0.500033     1.654031   \n",
       "min       3.793790     2.053750     0.000000     0.000000     1.760910   \n",
       "25%       5.794548     5.684860     0.000000     0.000000     5.197680   \n",
       "50%       6.473235     7.008090     1.000000     0.000000     6.222725   \n",
       "75%       7.141743     8.084315     1.000000     1.000000     7.682100   \n",
       "max       9.159010    11.689190     1.000000     1.000000    11.303560   \n",
       "\n",
       "       erytrocytes        hbver    smoker_no   smoker_yes   leukocytes  \\\n",
       "count  7396.000000  7396.000000  7396.000000  7396.000000  7396.000000   \n",
       "mean      6.904693     6.473023     0.607220     0.392780     6.441194   \n",
       "std       1.595154     0.956219     0.488402     0.488402     1.690212   \n",
       "min       2.335850     3.811080     0.000000     0.000000     1.734990   \n",
       "25%       5.756907     5.824005     0.000000     0.000000     5.173930   \n",
       "50%       7.036800     6.480965     1.000000     0.000000     6.339970   \n",
       "75%       8.042610     7.129435     1.000000     1.000000     7.690295   \n",
       "max      11.440480     9.132920     1.000000     1.000000    11.291590   \n",
       "\n",
       "       blood_group          alp          alt        er-cv          ast  \\\n",
       "count  7396.000000  7396.000000  7396.000000  7396.000000  7396.000000   \n",
       "mean      4.462277    72.772618     1.043470    49.243409    52.189304   \n",
       "std       2.286997    16.405081     0.711056    12.749150    11.495062   \n",
       "min       1.000000    32.088417     0.026580    14.477540    20.880870   \n",
       "25%       2.000000    64.390518     0.523510    40.563688    44.454560   \n",
       "50%       4.000000    78.400945     0.777580    49.099245    52.188470   \n",
       "75%       6.000000    84.989178     1.346920    58.036563    59.933165   \n",
       "max       8.000000   100.000000     2.578226    83.734840    83.807330   \n",
       "\n",
       "        hemoglobin  \n",
       "count  7396.000000  \n",
       "mean      6.463055  \n",
       "std       0.973403  \n",
       "min       3.773490  \n",
       "25%       5.802087  \n",
       "50%       6.474755  \n",
       "75%       7.129347  \n",
       "max       9.155650  "
      ]
     },
     "execution_count": 46,
     "metadata": {},
     "output_type": "execute_result"
    }
   ],
   "source": [
    "data.describe()"
   ]
  },
  {
   "cell_type": "code",
   "execution_count": 47,
   "metadata": {},
   "outputs": [
    {
     "data": {
      "text/html": [
       "<div>\n",
       "<style scoped>\n",
       "    .dataframe tbody tr th:only-of-type {\n",
       "        vertical-align: middle;\n",
       "    }\n",
       "\n",
       "    .dataframe tbody tr th {\n",
       "        vertical-align: top;\n",
       "    }\n",
       "\n",
       "    .dataframe thead th {\n",
       "        text-align: right;\n",
       "    }\n",
       "</style>\n",
       "<table border=\"1\" class=\"dataframe\">\n",
       "  <thead>\n",
       "    <tr style=\"text-align: right;\">\n",
       "      <th></th>\n",
       "      <th>etytr</th>\n",
       "      <th>trombocytes</th>\n",
       "      <th>male</th>\n",
       "      <th>female</th>\n",
       "      <th>hematocrit</th>\n",
       "      <th>erytrocytes</th>\n",
       "      <th>hbver</th>\n",
       "      <th>smoker_no</th>\n",
       "      <th>smoker_yes</th>\n",
       "      <th>leukocytes</th>\n",
       "      <th>blood_group</th>\n",
       "      <th>alp</th>\n",
       "      <th>alt</th>\n",
       "      <th>er-cv</th>\n",
       "      <th>ast</th>\n",
       "      <th>hemoglobin</th>\n",
       "    </tr>\n",
       "  </thead>\n",
       "  <tbody>\n",
       "    <tr>\n",
       "      <th>1430</th>\n",
       "      <td>6.24886</td>\n",
       "      <td>5.14203</td>\n",
       "      <td>0</td>\n",
       "      <td>1</td>\n",
       "      <td>7.33993</td>\n",
       "      <td>7.05230</td>\n",
       "      <td>5.37446</td>\n",
       "      <td>0</td>\n",
       "      <td>1</td>\n",
       "      <td>7.43566</td>\n",
       "      <td>5</td>\n",
       "      <td>83.81437</td>\n",
       "      <td>0.720670</td>\n",
       "      <td>32.51206</td>\n",
       "      <td>45.39593</td>\n",
       "      <td>6.73877</td>\n",
       "    </tr>\n",
       "    <tr>\n",
       "      <th>7064</th>\n",
       "      <td>6.43111</td>\n",
       "      <td>9.15557</td>\n",
       "      <td>1</td>\n",
       "      <td>0</td>\n",
       "      <td>4.90794</td>\n",
       "      <td>6.33497</td>\n",
       "      <td>5.27428</td>\n",
       "      <td>1</td>\n",
       "      <td>0</td>\n",
       "      <td>8.36542</td>\n",
       "      <td>3</td>\n",
       "      <td>91.31883</td>\n",
       "      <td>0.734210</td>\n",
       "      <td>42.93840</td>\n",
       "      <td>63.26918</td>\n",
       "      <td>6.14065</td>\n",
       "    </tr>\n",
       "    <tr>\n",
       "      <th>3562</th>\n",
       "      <td>7.96093</td>\n",
       "      <td>6.06634</td>\n",
       "      <td>1</td>\n",
       "      <td>0</td>\n",
       "      <td>6.25975</td>\n",
       "      <td>7.23869</td>\n",
       "      <td>4.09109</td>\n",
       "      <td>1</td>\n",
       "      <td>0</td>\n",
       "      <td>6.31522</td>\n",
       "      <td>6</td>\n",
       "      <td>65.36749</td>\n",
       "      <td>0.949230</td>\n",
       "      <td>49.06949</td>\n",
       "      <td>48.07503</td>\n",
       "      <td>7.55247</td>\n",
       "    </tr>\n",
       "    <tr>\n",
       "      <th>4571</th>\n",
       "      <td>5.80256</td>\n",
       "      <td>8.44888</td>\n",
       "      <td>0</td>\n",
       "      <td>1</td>\n",
       "      <td>5.48512</td>\n",
       "      <td>6.93782</td>\n",
       "      <td>6.75140</td>\n",
       "      <td>0</td>\n",
       "      <td>1</td>\n",
       "      <td>7.83282</td>\n",
       "      <td>4</td>\n",
       "      <td>87.60307</td>\n",
       "      <td>0.766670</td>\n",
       "      <td>49.05363</td>\n",
       "      <td>64.31866</td>\n",
       "      <td>6.48718</td>\n",
       "    </tr>\n",
       "    <tr>\n",
       "      <th>4841</th>\n",
       "      <td>6.45923</td>\n",
       "      <td>8.67833</td>\n",
       "      <td>0</td>\n",
       "      <td>1</td>\n",
       "      <td>5.14435</td>\n",
       "      <td>6.76051</td>\n",
       "      <td>7.97638</td>\n",
       "      <td>1</td>\n",
       "      <td>0</td>\n",
       "      <td>6.51035</td>\n",
       "      <td>8</td>\n",
       "      <td>78.25868</td>\n",
       "      <td>0.593170</td>\n",
       "      <td>42.46957</td>\n",
       "      <td>32.19306</td>\n",
       "      <td>6.90486</td>\n",
       "    </tr>\n",
       "    <tr>\n",
       "      <th>...</th>\n",
       "      <td>...</td>\n",
       "      <td>...</td>\n",
       "      <td>...</td>\n",
       "      <td>...</td>\n",
       "      <td>...</td>\n",
       "      <td>...</td>\n",
       "      <td>...</td>\n",
       "      <td>...</td>\n",
       "      <td>...</td>\n",
       "      <td>...</td>\n",
       "      <td>...</td>\n",
       "      <td>...</td>\n",
       "      <td>...</td>\n",
       "      <td>...</td>\n",
       "      <td>...</td>\n",
       "      <td>...</td>\n",
       "    </tr>\n",
       "    <tr>\n",
       "      <th>3223</th>\n",
       "      <td>8.23323</td>\n",
       "      <td>6.13515</td>\n",
       "      <td>0</td>\n",
       "      <td>1</td>\n",
       "      <td>7.89925</td>\n",
       "      <td>3.89017</td>\n",
       "      <td>6.24591</td>\n",
       "      <td>1</td>\n",
       "      <td>0</td>\n",
       "      <td>4.71356</td>\n",
       "      <td>1</td>\n",
       "      <td>65.12951</td>\n",
       "      <td>0.331130</td>\n",
       "      <td>48.59240</td>\n",
       "      <td>29.93851</td>\n",
       "      <td>5.06503</td>\n",
       "    </tr>\n",
       "    <tr>\n",
       "      <th>4508</th>\n",
       "      <td>5.67050</td>\n",
       "      <td>7.73980</td>\n",
       "      <td>1</td>\n",
       "      <td>0</td>\n",
       "      <td>6.40675</td>\n",
       "      <td>7.32201</td>\n",
       "      <td>6.07581</td>\n",
       "      <td>1</td>\n",
       "      <td>0</td>\n",
       "      <td>9.36916</td>\n",
       "      <td>4</td>\n",
       "      <td>60.98947</td>\n",
       "      <td>0.659140</td>\n",
       "      <td>54.62581</td>\n",
       "      <td>54.09285</td>\n",
       "      <td>7.52976</td>\n",
       "    </tr>\n",
       "    <tr>\n",
       "      <th>4345</th>\n",
       "      <td>7.77943</td>\n",
       "      <td>6.43281</td>\n",
       "      <td>0</td>\n",
       "      <td>1</td>\n",
       "      <td>9.18692</td>\n",
       "      <td>9.57747</td>\n",
       "      <td>6.56991</td>\n",
       "      <td>0</td>\n",
       "      <td>1</td>\n",
       "      <td>9.39014</td>\n",
       "      <td>7</td>\n",
       "      <td>77.23971</td>\n",
       "      <td>2.578226</td>\n",
       "      <td>57.19043</td>\n",
       "      <td>48.55181</td>\n",
       "      <td>6.94242</td>\n",
       "    </tr>\n",
       "    <tr>\n",
       "      <th>4219</th>\n",
       "      <td>5.99502</td>\n",
       "      <td>4.30390</td>\n",
       "      <td>0</td>\n",
       "      <td>1</td>\n",
       "      <td>7.19238</td>\n",
       "      <td>8.12273</td>\n",
       "      <td>7.03904</td>\n",
       "      <td>1</td>\n",
       "      <td>0</td>\n",
       "      <td>7.49033</td>\n",
       "      <td>8</td>\n",
       "      <td>84.37856</td>\n",
       "      <td>1.358380</td>\n",
       "      <td>69.20114</td>\n",
       "      <td>49.92092</td>\n",
       "      <td>6.65194</td>\n",
       "    </tr>\n",
       "    <tr>\n",
       "      <th>8485</th>\n",
       "      <td>6.48768</td>\n",
       "      <td>7.85407</td>\n",
       "      <td>0</td>\n",
       "      <td>1</td>\n",
       "      <td>8.45932</td>\n",
       "      <td>2.80138</td>\n",
       "      <td>5.73118</td>\n",
       "      <td>1</td>\n",
       "      <td>0</td>\n",
       "      <td>7.80366</td>\n",
       "      <td>1</td>\n",
       "      <td>79.08909</td>\n",
       "      <td>0.213330</td>\n",
       "      <td>72.34987</td>\n",
       "      <td>65.96959</td>\n",
       "      <td>6.95446</td>\n",
       "    </tr>\n",
       "  </tbody>\n",
       "</table>\n",
       "<p>7396 rows × 16 columns</p>\n",
       "</div>"
      ],
      "text/plain": [
       "        etytr  trombocytes  male  female  hematocrit  erytrocytes    hbver  \\\n",
       "1430  6.24886      5.14203     0       1     7.33993      7.05230  5.37446   \n",
       "7064  6.43111      9.15557     1       0     4.90794      6.33497  5.27428   \n",
       "3562  7.96093      6.06634     1       0     6.25975      7.23869  4.09109   \n",
       "4571  5.80256      8.44888     0       1     5.48512      6.93782  6.75140   \n",
       "4841  6.45923      8.67833     0       1     5.14435      6.76051  7.97638   \n",
       "...       ...          ...   ...     ...         ...          ...      ...   \n",
       "3223  8.23323      6.13515     0       1     7.89925      3.89017  6.24591   \n",
       "4508  5.67050      7.73980     1       0     6.40675      7.32201  6.07581   \n",
       "4345  7.77943      6.43281     0       1     9.18692      9.57747  6.56991   \n",
       "4219  5.99502      4.30390     0       1     7.19238      8.12273  7.03904   \n",
       "8485  6.48768      7.85407     0       1     8.45932      2.80138  5.73118   \n",
       "\n",
       "      smoker_no  smoker_yes  leukocytes  blood_group       alp       alt  \\\n",
       "1430          0           1     7.43566            5  83.81437  0.720670   \n",
       "7064          1           0     8.36542            3  91.31883  0.734210   \n",
       "3562          1           0     6.31522            6  65.36749  0.949230   \n",
       "4571          0           1     7.83282            4  87.60307  0.766670   \n",
       "4841          1           0     6.51035            8  78.25868  0.593170   \n",
       "...         ...         ...         ...          ...       ...       ...   \n",
       "3223          1           0     4.71356            1  65.12951  0.331130   \n",
       "4508          1           0     9.36916            4  60.98947  0.659140   \n",
       "4345          0           1     9.39014            7  77.23971  2.578226   \n",
       "4219          1           0     7.49033            8  84.37856  1.358380   \n",
       "8485          1           0     7.80366            1  79.08909  0.213330   \n",
       "\n",
       "         er-cv       ast  hemoglobin  \n",
       "1430  32.51206  45.39593     6.73877  \n",
       "7064  42.93840  63.26918     6.14065  \n",
       "3562  49.06949  48.07503     7.55247  \n",
       "4571  49.05363  64.31866     6.48718  \n",
       "4841  42.46957  32.19306     6.90486  \n",
       "...        ...       ...         ...  \n",
       "3223  48.59240  29.93851     5.06503  \n",
       "4508  54.62581  54.09285     7.52976  \n",
       "4345  57.19043  48.55181     6.94242  \n",
       "4219  69.20114  49.92092     6.65194  \n",
       "8485  72.34987  65.96959     6.95446  \n",
       "\n",
       "[7396 rows x 16 columns]"
      ]
     },
     "execution_count": 47,
     "metadata": {},
     "output_type": "execute_result"
    }
   ],
   "source": [
    "data"
   ]
  },
  {
   "cell_type": "markdown",
   "metadata": {},
   "source": [
    "### Škálovanie a normalizácia dát"
   ]
  },
  {
   "cell_type": "code",
   "execution_count": 48,
   "metadata": {
    "scrolled": false
   },
   "outputs": [
    {
     "data": {
      "text/plain": [
       "array([[<AxesSubplot:title={'center':'etytr'}>,\n",
       "        <AxesSubplot:title={'center':'trombocytes'}>,\n",
       "        <AxesSubplot:title={'center':'hematocrit'}>],\n",
       "       [<AxesSubplot:title={'center':'hbver'}>,\n",
       "        <AxesSubplot:title={'center':'erytrocytes'}>,\n",
       "        <AxesSubplot:title={'center':'leukocytes'}>],\n",
       "       [<AxesSubplot:title={'center':'blood_group'}>,\n",
       "        <AxesSubplot:title={'center':'alp'}>,\n",
       "        <AxesSubplot:title={'center':'alt'}>],\n",
       "       [<AxesSubplot:title={'center':'er-cv'}>,\n",
       "        <AxesSubplot:title={'center':'ast'}>,\n",
       "        <AxesSubplot:title={'center':'hemoglobin'}>]], dtype=object)"
      ]
     },
     "execution_count": 48,
     "metadata": {},
     "output_type": "execute_result"
    },
    {
     "data": {
      "image/png": "[encoded data removed]",
      "text/plain": [
       "<Figure size 1080x864 with 12 Axes>"
      ]
     },
     "metadata": {
      "needs_background": "light"
     },
     "output_type": "display_data"
    }
   ],
   "source": [
    "attr = set(data.columns) - {'smoker_no', 'smoker_yes', 'male', 'female', 'indicator'}\n",
    "attr = list(attr)\n",
    "\n",
    "data[attr].hist(figsize=(15,12))"
   ]
  },
  {
   "cell_type": "markdown",
   "metadata": {},
   "source": [
    "**Yeo-Johnson** na vyhladenie atribútov podľa gaussovho rozdelenia. Niektoré hodnoty ako *alt*, *hematocrit* a *alp* potrebujú upraviť kvôli príliš odchýlenej skewness."
   ]
  },
  {
   "cell_type": "code",
   "execution_count": 49,
   "metadata": {},
   "outputs": [
    {
     "name": "stdout",
     "output_type": "stream",
     "text": [
      "alt = 1.0936420303662153\t hematocrit = 0.29750175776313664\t alp = -1.043429157665256\n"
     ]
    }
   ],
   "source": [
    "print(\"alt = %s\\t hematocrit = %s\\t alp = %s\" % (data.alt.skew(), data.hematocrit.skew(), data.alp.skew()))"
   ]
  },
  {
   "cell_type": "code",
   "execution_count": 51,
   "metadata": {},
   "outputs": [],
   "source": [
    "pow_attr = attr.copy()\n",
    "pow_attr.remove('blood_group')\n",
    "\n",
    "for a in pow_attr:\n",
    "    transformer = PowerTransformer(method='yeo-johnson',  standardize=False)\n",
    "    column = data[a].values\n",
    "    column = column.reshape((len(column),1))\n",
    "    col_trans = transformer.fit_transform(column)\n",
    "    data = data.drop(a, axis=1)\n",
    "    data.insert(loc=0, column=a, value=col_trans) "
   ]
  },
  {
   "cell_type": "code",
   "execution_count": 54,
   "metadata": {},
   "outputs": [
    {
     "name": "stdout",
     "output_type": "stream",
     "text": [
      "alt = 0.13115110323368193\t hematocrit = -0.012248978719075035\t alp = -0.3479703187420437\n"
     ]
    }
   ],
   "source": [
    "print(\"alt = %s\\t hematocrit = %s\\t alp = %s\" % (data.alt.skew(), data.hematocrit.skew(), data.alp.skew()))"
   ]
  },
  {
   "cell_type": "markdown",
   "metadata": {},
   "source": [
    "**MinMax Scaler** na škálovanie hodnôt od 0 po 1 aby boli všetky hodnoty v rovnakom rozsahu."
   ]
  },
  {
   "cell_type": "code",
   "execution_count": 56,
   "metadata": {},
   "outputs": [],
   "source": [
    "for a in attr:\n",
    "    scaler = MinMaxScaler()\n",
    "    column = data[a].values\n",
    "    column = column.reshape((len(column),1))\n",
    "    col_trans = scaler.fit_transform(column)\n",
    "    data = data.drop(a, axis=1)\n",
    "    data.insert(loc=0, column=a, value=col_trans) "
   ]
  },
  {
   "cell_type": "code",
   "execution_count": 57,
   "metadata": {},
   "outputs": [
    {
     "data": {
      "text/plain": [
       "array([[<AxesSubplot:title={'center':'etytr'}>,\n",
       "        <AxesSubplot:title={'center':'trombocytes'}>,\n",
       "        <AxesSubplot:title={'center':'hematocrit'}>],\n",
       "       [<AxesSubplot:title={'center':'hbver'}>,\n",
       "        <AxesSubplot:title={'center':'erytrocytes'}>,\n",
       "        <AxesSubplot:title={'center':'leukocytes'}>],\n",
       "       [<AxesSubplot:title={'center':'blood_group'}>,\n",
       "        <AxesSubplot:title={'center':'alp'}>,\n",
       "        <AxesSubplot:title={'center':'alt'}>],\n",
       "       [<AxesSubplot:title={'center':'er-cv'}>,\n",
       "        <AxesSubplot:title={'center':'ast'}>,\n",
       "        <AxesSubplot:title={'center':'hemoglobin'}>]], dtype=object)"
      ]
     },
     "execution_count": 57,
     "metadata": {},
     "output_type": "execute_result"
    },
    {
     "data": {
      "image/png": "[encoded data removed]",
      "text/plain": [
       "<Figure size 1080x864 with 12 Axes>"
      ]
     },
     "metadata": {
      "needs_background": "light"
     },
     "output_type": "display_data"
    }
   ],
   "source": [
    "data[attr].hist(figsize=(15,12))"
   ]
  },
  {
   "cell_type": "code",
   "execution_count": 58,
   "metadata": {
    "scrolled": true
   },
   "outputs": [
    {
     "data": {
      "text/html": [
       "<div>\n",
       "<style scoped>\n",
       "    .dataframe tbody tr th:only-of-type {\n",
       "        vertical-align: middle;\n",
       "    }\n",
       "\n",
       "    .dataframe tbody tr th {\n",
       "        vertical-align: top;\n",
       "    }\n",
       "\n",
       "    .dataframe thead th {\n",
       "        text-align: right;\n",
       "    }\n",
       "</style>\n",
       "<table border=\"1\" class=\"dataframe\">\n",
       "  <thead>\n",
       "    <tr style=\"text-align: right;\">\n",
       "      <th></th>\n",
       "      <th>hemoglobin</th>\n",
       "      <th>ast</th>\n",
       "      <th>er-cv</th>\n",
       "      <th>alt</th>\n",
       "      <th>alp</th>\n",
       "      <th>blood_group</th>\n",
       "      <th>leukocytes</th>\n",
       "      <th>erytrocytes</th>\n",
       "      <th>hbver</th>\n",
       "      <th>hematocrit</th>\n",
       "      <th>trombocytes</th>\n",
       "      <th>etytr</th>\n",
       "      <th>male</th>\n",
       "      <th>female</th>\n",
       "      <th>smoker_no</th>\n",
       "      <th>smoker_yes</th>\n",
       "    </tr>\n",
       "  </thead>\n",
       "  <tbody>\n",
       "    <tr>\n",
       "      <th>count</th>\n",
       "      <td>7396.000000</td>\n",
       "      <td>7396.000000</td>\n",
       "      <td>7396.000000</td>\n",
       "      <td>7396.000000</td>\n",
       "      <td>7396.000000</td>\n",
       "      <td>7396.000000</td>\n",
       "      <td>7396.000000</td>\n",
       "      <td>7396.000000</td>\n",
       "      <td>7396.000000</td>\n",
       "      <td>7396.000000</td>\n",
       "      <td>7396.000000</td>\n",
       "      <td>7396.000000</td>\n",
       "      <td>7396.000000</td>\n",
       "      <td>7396.000000</td>\n",
       "      <td>7396.000000</td>\n",
       "      <td>7396.000000</td>\n",
       "    </tr>\n",
       "    <tr>\n",
       "      <th>mean</th>\n",
       "      <td>0.495974</td>\n",
       "      <td>0.505364</td>\n",
       "      <td>0.503601</td>\n",
       "      <td>0.651014</td>\n",
       "      <td>0.427853</td>\n",
       "      <td>0.494611</td>\n",
       "      <td>0.543197</td>\n",
       "      <td>0.468271</td>\n",
       "      <td>0.496059</td>\n",
       "      <td>0.589583</td>\n",
       "      <td>0.442031</td>\n",
       "      <td>0.508338</td>\n",
       "      <td>0.500676</td>\n",
       "      <td>0.499324</td>\n",
       "      <td>0.607220</td>\n",
       "      <td>0.392780</td>\n",
       "    </tr>\n",
       "    <tr>\n",
       "      <th>std</th>\n",
       "      <td>0.180959</td>\n",
       "      <td>0.182225</td>\n",
       "      <td>0.183970</td>\n",
       "      <td>0.210710</td>\n",
       "      <td>0.228276</td>\n",
       "      <td>0.326714</td>\n",
       "      <td>0.172268</td>\n",
       "      <td>0.176034</td>\n",
       "      <td>0.179790</td>\n",
       "      <td>0.161259</td>\n",
       "      <td>0.176504</td>\n",
       "      <td>0.179927</td>\n",
       "      <td>0.500033</td>\n",
       "      <td>0.500033</td>\n",
       "      <td>0.488402</td>\n",
       "      <td>0.488402</td>\n",
       "    </tr>\n",
       "    <tr>\n",
       "      <th>min</th>\n",
       "      <td>0.000000</td>\n",
       "      <td>0.000000</td>\n",
       "      <td>0.000000</td>\n",
       "      <td>0.000000</td>\n",
       "      <td>0.000000</td>\n",
       "      <td>0.000000</td>\n",
       "      <td>0.000000</td>\n",
       "      <td>0.000000</td>\n",
       "      <td>0.000000</td>\n",
       "      <td>0.000000</td>\n",
       "      <td>0.000000</td>\n",
       "      <td>0.000000</td>\n",
       "      <td>0.000000</td>\n",
       "      <td>0.000000</td>\n",
       "      <td>0.000000</td>\n",
       "      <td>0.000000</td>\n",
       "    </tr>\n",
       "    <tr>\n",
       "      <th>25%</th>\n",
       "      <td>0.372751</td>\n",
       "      <td>0.383519</td>\n",
       "      <td>0.378519</td>\n",
       "      <td>0.491058</td>\n",
       "      <td>0.250834</td>\n",
       "      <td>0.142857</td>\n",
       "      <td>0.417337</td>\n",
       "      <td>0.338512</td>\n",
       "      <td>0.373652</td>\n",
       "      <td>0.472204</td>\n",
       "      <td>0.314726</td>\n",
       "      <td>0.382824</td>\n",
       "      <td>0.000000</td>\n",
       "      <td>0.000000</td>\n",
       "      <td>0.000000</td>\n",
       "      <td>0.000000</td>\n",
       "    </tr>\n",
       "    <tr>\n",
       "      <th>50%</th>\n",
       "      <td>0.497595</td>\n",
       "      <td>0.506494</td>\n",
       "      <td>0.501757</td>\n",
       "      <td>0.626560</td>\n",
       "      <td>0.473618</td>\n",
       "      <td>0.428571</td>\n",
       "      <td>0.539423</td>\n",
       "      <td>0.478401</td>\n",
       "      <td>0.496949</td>\n",
       "      <td>0.578655</td>\n",
       "      <td>0.450515</td>\n",
       "      <td>0.509637</td>\n",
       "      <td>1.000000</td>\n",
       "      <td>0.000000</td>\n",
       "      <td>1.000000</td>\n",
       "      <td>0.000000</td>\n",
       "    </tr>\n",
       "    <tr>\n",
       "      <th>75%</th>\n",
       "      <td>0.619589</td>\n",
       "      <td>0.628624</td>\n",
       "      <td>0.630576</td>\n",
       "      <td>0.814089</td>\n",
       "      <td>0.608813</td>\n",
       "      <td>0.714286</td>\n",
       "      <td>0.673096</td>\n",
       "      <td>0.592386</td>\n",
       "      <td>0.619208</td>\n",
       "      <td>0.714917</td>\n",
       "      <td>0.567818</td>\n",
       "      <td>0.633299</td>\n",
       "      <td>1.000000</td>\n",
       "      <td>1.000000</td>\n",
       "      <td>1.000000</td>\n",
       "      <td>1.000000</td>\n",
       "    </tr>\n",
       "    <tr>\n",
       "      <th>max</th>\n",
       "      <td>1.000000</td>\n",
       "      <td>1.000000</td>\n",
       "      <td>1.000000</td>\n",
       "      <td>1.000000</td>\n",
       "      <td>1.000000</td>\n",
       "      <td>1.000000</td>\n",
       "      <td>1.000000</td>\n",
       "      <td>1.000000</td>\n",
       "      <td>1.000000</td>\n",
       "      <td>1.000000</td>\n",
       "      <td>1.000000</td>\n",
       "      <td>1.000000</td>\n",
       "      <td>1.000000</td>\n",
       "      <td>1.000000</td>\n",
       "      <td>1.000000</td>\n",
       "      <td>1.000000</td>\n",
       "    </tr>\n",
       "  </tbody>\n",
       "</table>\n",
       "</div>"
      ],
      "text/plain": [
       "        hemoglobin          ast        er-cv          alt          alp  \\\n",
       "count  7396.000000  7396.000000  7396.000000  7396.000000  7396.000000   \n",
       "mean      0.495974     0.505364     0.503601     0.651014     0.427853   \n",
       "std       0.180959     0.182225     0.183970     0.210710     0.228276   \n",
       "min       0.000000     0.000000     0.000000     0.000000     0.000000   \n",
       "25%       0.372751     0.383519     0.378519     0.491058     0.250834   \n",
       "50%       0.497595     0.506494     0.501757     0.626560     0.473618   \n",
       "75%       0.619589     0.628624     0.630576     0.814089     0.608813   \n",
       "max       1.000000     1.000000     1.000000     1.000000     1.000000   \n",
       "\n",
       "       blood_group   leukocytes  erytrocytes        hbver   hematocrit  \\\n",
       "count  7396.000000  7396.000000  7396.000000  7396.000000  7396.000000   \n",
       "mean      0.494611     0.543197     0.468271     0.496059     0.589583   \n",
       "std       0.326714     0.172268     0.176034     0.179790     0.161259   \n",
       "min       0.000000     0.000000     0.000000     0.000000     0.000000   \n",
       "25%       0.142857     0.417337     0.338512     0.373652     0.472204   \n",
       "50%       0.428571     0.539423     0.478401     0.496949     0.578655   \n",
       "75%       0.714286     0.673096     0.592386     0.619208     0.714917   \n",
       "max       1.000000     1.000000     1.000000     1.000000     1.000000   \n",
       "\n",
       "       trombocytes        etytr         male       female    smoker_no  \\\n",
       "count  7396.000000  7396.000000  7396.000000  7396.000000  7396.000000   \n",
       "mean      0.442031     0.508338     0.500676     0.499324     0.607220   \n",
       "std       0.176504     0.179927     0.500033     0.500033     0.488402   \n",
       "min       0.000000     0.000000     0.000000     0.000000     0.000000   \n",
       "25%       0.314726     0.382824     0.000000     0.000000     0.000000   \n",
       "50%       0.450515     0.509637     1.000000     0.000000     1.000000   \n",
       "75%       0.567818     0.633299     1.000000     1.000000     1.000000   \n",
       "max       1.000000     1.000000     1.000000     1.000000     1.000000   \n",
       "\n",
       "        smoker_yes  \n",
       "count  7396.000000  \n",
       "mean      0.392780  \n",
       "std       0.488402  \n",
       "min       0.000000  \n",
       "25%       0.000000  \n",
       "50%       0.000000  \n",
       "75%       1.000000  \n",
       "max       1.000000  "
      ]
     },
     "execution_count": 58,
     "metadata": {},
     "output_type": "execute_result"
    }
   ],
   "source": [
    "data.describe()"
   ]
  },
  {
   "cell_type": "markdown",
   "metadata": {},
   "source": [
    "____\n",
    "\n",
    "## Výber atribútov pre strojové učenie"
   ]
  },
  {
   "cell_type": "code",
   "execution_count": 60,
   "metadata": {
    "scrolled": true
   },
   "outputs": [
    {
     "data": {
      "text/html": [
       "<div>\n",
       "<style scoped>\n",
       "    .dataframe tbody tr th:only-of-type {\n",
       "        vertical-align: middle;\n",
       "    }\n",
       "\n",
       "    .dataframe tbody tr th {\n",
       "        vertical-align: top;\n",
       "    }\n",
       "\n",
       "    .dataframe thead th {\n",
       "        text-align: right;\n",
       "    }\n",
       "</style>\n",
       "<table border=\"1\" class=\"dataframe\">\n",
       "  <thead>\n",
       "    <tr style=\"text-align: right;\">\n",
       "      <th></th>\n",
       "      <th>hemoglobin</th>\n",
       "      <th>ast</th>\n",
       "      <th>er-cv</th>\n",
       "      <th>alt</th>\n",
       "      <th>alp</th>\n",
       "      <th>blood_group</th>\n",
       "      <th>leukocytes</th>\n",
       "      <th>erytrocytes</th>\n",
       "      <th>hbver</th>\n",
       "      <th>hematocrit</th>\n",
       "      <th>trombocytes</th>\n",
       "      <th>etytr</th>\n",
       "      <th>male</th>\n",
       "      <th>female</th>\n",
       "      <th>smoker_no</th>\n",
       "      <th>smoker_yes</th>\n",
       "    </tr>\n",
       "  </thead>\n",
       "  <tbody>\n",
       "    <tr>\n",
       "      <th>1430</th>\n",
       "      <td>0.546741</td>\n",
       "      <td>0.398547</td>\n",
       "      <td>0.262040</td>\n",
       "      <td>0.600083</td>\n",
       "      <td>0.583167</td>\n",
       "      <td>0.571429</td>\n",
       "      <td>0.648442</td>\n",
       "      <td>0.480132</td>\n",
       "      <td>0.289635</td>\n",
       "      <td>0.684346</td>\n",
       "      <td>0.261935</td>\n",
       "      <td>0.467860</td>\n",
       "      <td>0</td>\n",
       "      <td>1</td>\n",
       "      <td>0</td>\n",
       "      <td>1</td>\n",
       "    </tr>\n",
       "    <tr>\n",
       "      <th>7064</th>\n",
       "      <td>0.435518</td>\n",
       "      <td>0.680953</td>\n",
       "      <td>0.412828</td>\n",
       "      <td>0.606559</td>\n",
       "      <td>0.759035</td>\n",
       "      <td>0.285714</td>\n",
       "      <td>0.737344</td>\n",
       "      <td>0.400938</td>\n",
       "      <td>0.270953</td>\n",
       "      <td>0.440127</td>\n",
       "      <td>0.690207</td>\n",
       "      <td>0.501805</td>\n",
       "      <td>1</td>\n",
       "      <td>0</td>\n",
       "      <td>1</td>\n",
       "      <td>0</td>\n",
       "    </tr>\n",
       "  </tbody>\n",
       "</table>\n",
       "</div>"
      ],
      "text/plain": [
       "      hemoglobin       ast     er-cv       alt       alp  blood_group  \\\n",
       "1430    0.546741  0.398547  0.262040  0.600083  0.583167     0.571429   \n",
       "7064    0.435518  0.680953  0.412828  0.606559  0.759035     0.285714   \n",
       "\n",
       "      leukocytes  erytrocytes     hbver  hematocrit  trombocytes     etytr  \\\n",
       "1430    0.648442     0.480132  0.289635    0.684346     0.261935  0.467860   \n",
       "7064    0.737344     0.400938  0.270953    0.440127     0.690207  0.501805   \n",
       "\n",
       "      male  female  smoker_no  smoker_yes  \n",
       "1430     0       1          0           1  \n",
       "7064     1       0          1           0  "
      ]
     },
     "execution_count": 60,
     "metadata": {},
     "output_type": "execute_result"
    }
   ],
   "source": [
    "data.head(2)"
   ]
  },
  {
   "cell_type": "markdown",
   "metadata": {},
   "source": [
    "**Mutual Information, Chi-Squared a F-value**\n",
    "\n",
    "Zoradenie atribútov od najviac relevantných podľa Chi-Squared funkcie."
   ]
  },
  {
   "cell_type": "code",
   "execution_count": 61,
   "metadata": {
    "scrolled": false
   },
   "outputs": [
    {
     "name": "stdout",
     "output_type": "stream",
     "text": [
      "      Attribute       Score\n",
      "10  trombocytes  205.936460\n",
      "7   erytrocytes   50.740219\n",
      "3           alt   37.426936\n",
      "5   blood_group    0.776192\n",
      "0    hemoglobin    0.224254\n",
      "9    hematocrit    0.116435\n",
      "8         hbver    0.071879\n",
      "11        etytr    0.070326\n",
      "2         er-cv    0.026560\n",
      "1           ast    0.025198\n",
      "4           alp    0.016192\n",
      "6    leukocytes    0.010689\n",
      "15   smoker_yes    0.004545\n",
      "13       female    0.003528\n",
      "12         male    0.003518\n",
      "14    smoker_no    0.002940\n"
     ]
    }
   ],
   "source": [
    "y = y_train\n",
    "X = data\n",
    "\n",
    "feature_count = X.shape[1]\n",
    "\n",
    "bestfeatures = SelectKBest(score_func=chi2, k=feature_count)\n",
    "fit = bestfeatures.fit(X,y)\n",
    "\n",
    "dfscores = pd.DataFrame(fit.scores_)\n",
    "dfcolumns = pd.DataFrame(X.columns)\n",
    "featureScores = pd.concat([dfcolumns,dfscores],axis=1)\n",
    "featureScores.columns = ['Attribute','Score']\n",
    "\n",
    "print(featureScores.nlargest(feature_count,'Score'))"
   ]
  },
  {
   "cell_type": "markdown",
   "metadata": {},
   "source": [
    "**L1-based feature selection**\n",
    "\n",
    "Pri tejto metóde sa osvedčila citlivosť 0.01, ktorá nám vybrala 5 relevantných atribútov."
   ]
  },
  {
   "cell_type": "code",
   "execution_count": 62,
   "metadata": {},
   "outputs": [
    {
     "name": "stdout",
     "output_type": "stream",
     "text": [
      "Total features: 16\n",
      "Selected features: 5\n",
      "Index(['blood_group', 'leukocytes', 'erytrocytes', 'hematocrit',\n",
      "       'trombocytes'],\n",
      "      dtype='object')\n"
     ]
    }
   ],
   "source": [
    "y = y_train\n",
    "X = data\n",
    "\n",
    "lsvc = LinearSVC(C=0.01, penalty=\"l1\", dual=False).fit(X, y)\n",
    "selector = SelectFromModel(estimator=lsvc, prefit=True)\n",
    "X_new = selector.transform(X)\n",
    "\n",
    "selected_feat = X.columns[(selector.get_support())]\n",
    "print('Total features: {}'.format((X.shape[1])))\n",
    "print('Selected features: {}'.format(len(selected_feat)))\n",
    "print(selected_feat)"
   ]
  },
  {
   "cell_type": "markdown",
   "metadata": {},
   "source": [
    "**Recursive feature elimination**\n",
    "\n",
    "Pri tejto metóde nastavíme premennú *features_to_select* na 5 aby sme mali rovnaký počet atribútov ako pri L1."
   ]
  },
  {
   "cell_type": "code",
   "execution_count": 63,
   "metadata": {},
   "outputs": [
    {
     "name": "stdout",
     "output_type": "stream",
     "text": [
      "[False False False  True False False  True  True False  True  True False\n",
      " False False False False]\n",
      "[ 3  2  5  1  6  4  1  1  7  1  1  8 12 10 11  9]\n"
     ]
    }
   ],
   "source": [
    "y = y_train\n",
    "X = data\n",
    "\n",
    "estimator = SVR(kernel=\"linear\")\n",
    "selector = RFE(estimator, n_features_to_select=5, step=1)\n",
    "selector = selector.fit(X, y)\n",
    "\n",
    "print(selector.support_)\n",
    "print(selector.ranking_)"
   ]
  },
  {
   "cell_type": "code",
   "execution_count": 64,
   "metadata": {
    "scrolled": true
   },
   "outputs": [
    {
     "data": {
      "text/plain": [
       "['blood_group',\n",
       " 'leukocytes',\n",
       " 'erytrocytes',\n",
       " 'hematocrit',\n",
       " 'trombocytes',\n",
       " 'alt']"
      ]
     },
     "execution_count": 64,
     "metadata": {},
     "output_type": "execute_result"
    }
   ],
   "source": [
    "attrs_to_keep = list(selected_feat)\n",
    "for (a, b) in zip(data.columns, selector.support_):\n",
    "    if b==True and a not in attrs_to_keep:\n",
    "        attrs_to_keep.append(a)\n",
    "        \n",
    "attrs_to_keep"
   ]
  },
  {
   "cell_type": "markdown",
   "metadata": {},
   "source": [
    "Zjednotili sme vybrané atribúty z L1 a recursive feature elimination. V tomto prípade nám vyšlo 6 relevantných atribútov."
   ]
  },
  {
   "cell_type": "markdown",
   "metadata": {},
   "source": [
    "____\n",
    "## Replikovateľnosť predspracovania\n",
    "\n",
    "Úprava kódu pomocou funkcií a pipeline. Najprv rozdelíme datasety na trénovací a testovací:"
   ]
  },
  {
   "cell_type": "code",
   "execution_count": 65,
   "metadata": {
    "scrolled": true
   },
   "outputs": [
    {
     "name": "stdout",
     "output_type": "stream",
     "text": [
      "(7396, 16) (1849, 16) (7396,) (1849,)\n"
     ]
    }
   ],
   "source": [
    "y = dataforPipe.indicator\n",
    "X = dataforPipe.drop('indicator', axis=1)\n",
    "\n",
    "X_train, X_test, y_train, y_test = train_test_split(X, y, test_size=0.20, random_state=1, stratify=y)\n",
    "print(X_train.shape, X_test.shape, y_train.shape, y_test.shape)"
   ]
  },
  {
   "cell_type": "markdown",
   "metadata": {},
   "source": [
    "Výber atribútov vhodných na škálovanie a transformáciu:"
   ]
  },
  {
   "cell_type": "code",
   "execution_count": 66,
   "metadata": {},
   "outputs": [],
   "source": [
    "scaling_attr = set(X_train.columns) - {'smoker_no', 'smoker_yes', 'male', 'female', 'indicator'}\n",
    "scaling_attr = list(scaling_attr)"
   ]
  },
  {
   "cell_type": "code",
   "execution_count": 67,
   "metadata": {},
   "outputs": [],
   "source": [
    "pow_attr = scaling_attr.copy()\n",
    "pow_attr.remove('blood_group')"
   ]
  },
  {
   "cell_type": "markdown",
   "metadata": {},
   "source": [
    "Definovanie vlastných tried s funkciami na úpravu dát:"
   ]
  },
  {
   "cell_type": "code",
   "execution_count": 68,
   "metadata": {},
   "outputs": [],
   "source": [
    "class PowerTransformator(TransformerMixin):\n",
    "    def __init__(self, attributes):\n",
    "        self.attr = attributes\n",
    "\n",
    "    def fit(self, X, y=None, **fit_params):\n",
    "        return self\n",
    "    \n",
    "    def transform(self, X, **transform_params):\n",
    "        data = X\n",
    "        \n",
    "        for a in self.attr:\n",
    "            transformer = PowerTransformer(method='yeo-johnson',  standardize=False)\n",
    "            column = data[a].values\n",
    "            column = column.reshape((len(column),1))\n",
    "            col_trans = transformer.fit_transform(column)\n",
    "            data = data.drop(a, axis=1)\n",
    "            data.insert(loc=0, column=a, value=col_trans) \n",
    "        \n",
    "        return data"
   ]
  },
  {
   "cell_type": "code",
   "execution_count": 69,
   "metadata": {},
   "outputs": [],
   "source": [
    "class MinMaxTransforator(TransformerMixin):\n",
    "    def __init__(self, attributes):\n",
    "        self.attr = attributes\n",
    "\n",
    "    def fit(self, X, y=None, **fit_params):\n",
    "        return self\n",
    "    \n",
    "    def transform(self, X, **transform_params):\n",
    "        data = X\n",
    "        \n",
    "        for a in self.attr:\n",
    "            scaler = MinMaxScaler()\n",
    "            column = data[a].values\n",
    "            column = column.reshape((len(column),1))\n",
    "            col_trans = scaler.fit_transform(column)\n",
    "            data = data.drop(a, axis=1)\n",
    "            data.insert(loc=0, column=a, value=col_trans) \n",
    "        \n",
    "        return data"
   ]
  },
  {
   "cell_type": "markdown",
   "metadata": {},
   "source": [
    "Feature selection pomocou zjednotenia výstupu L1 a Recursive Feature Elimination:"
   ]
  },
  {
   "cell_type": "code",
   "execution_count": 70,
   "metadata": {},
   "outputs": [],
   "source": [
    "class FeatureSelector(TransformerMixin):\n",
    "    def __init__(self, yor):\n",
    "        self.yee = yor\n",
    "        pass\n",
    "\n",
    "    def fit(self, X, y=None, **fit_params):\n",
    "        return self\n",
    "    \n",
    "    def transform(self, Xor, **transform_params):\n",
    "        X = Xor\n",
    "        \n",
    "        lsvc = LinearSVC(C=0.01, penalty=\"l1\", dual=False).fit(X, self.yee)\n",
    "        selector = SelectFromModel(estimator=lsvc, prefit=True)\n",
    "        X_new = selector.transform(X)\n",
    "        selected_feat = X.columns[(selector.get_support())]\n",
    "        \n",
    "        X = Xor\n",
    "        \n",
    "        estimator = SVR(kernel=\"linear\")\n",
    "        selector = RFE(estimator, n_features_to_select=5, step=1)\n",
    "        selector = selector.fit(X, self.yee)\n",
    "        selected2 = selector.support_\n",
    "        \n",
    "        attrs_to_keep = list(selected_feat)\n",
    "        for (a, b) in zip(data.columns, selector.support_):\n",
    "            if b==True and a not in attrs_to_keep:\n",
    "                attrs_to_keep.append(a)\n",
    "            \n",
    "        return Xor[attrs_to_keep]"
   ]
  },
  {
   "cell_type": "markdown",
   "metadata": {},
   "source": [
    "Definovanie Pipeline a úprava dát:"
   ]
  },
  {
   "cell_type": "code",
   "execution_count": 71,
   "metadata": {},
   "outputs": [],
   "source": [
    "ppline = Pipeline([\n",
    "    (\"powerTransformer\", PowerTransformator(pow_attr)),\n",
    "    (\"minMaxScaler\", MinMaxTransforator(scaling_attr)),\n",
    "    (\"featureSelector\", FeatureSelector(y_train))\n",
    "])"
   ]
  },
  {
   "cell_type": "code",
   "execution_count": 72,
   "metadata": {},
   "outputs": [],
   "source": [
    "output_data = ppline.fit_transform(X_train, y_train)"
   ]
  },
  {
   "cell_type": "code",
   "execution_count": 73,
   "metadata": {
    "scrolled": false
   },
   "outputs": [
    {
     "data": {
      "text/html": [
       "<div>\n",
       "<style scoped>\n",
       "    .dataframe tbody tr th:only-of-type {\n",
       "        vertical-align: middle;\n",
       "    }\n",
       "\n",
       "    .dataframe tbody tr th {\n",
       "        vertical-align: top;\n",
       "    }\n",
       "\n",
       "    .dataframe thead th {\n",
       "        text-align: right;\n",
       "    }\n",
       "</style>\n",
       "<table border=\"1\" class=\"dataframe\">\n",
       "  <thead>\n",
       "    <tr style=\"text-align: right;\">\n",
       "      <th></th>\n",
       "      <th>blood_group</th>\n",
       "      <th>leukocytes</th>\n",
       "      <th>erytrocytes</th>\n",
       "      <th>hematocrit</th>\n",
       "      <th>trombocytes</th>\n",
       "      <th>alt</th>\n",
       "    </tr>\n",
       "  </thead>\n",
       "  <tbody>\n",
       "    <tr>\n",
       "      <th>1430</th>\n",
       "      <td>0.571429</td>\n",
       "      <td>0.648442</td>\n",
       "      <td>0.480132</td>\n",
       "      <td>0.684346</td>\n",
       "      <td>0.261935</td>\n",
       "      <td>0.600083</td>\n",
       "    </tr>\n",
       "    <tr>\n",
       "      <th>7064</th>\n",
       "      <td>0.285714</td>\n",
       "      <td>0.737344</td>\n",
       "      <td>0.400938</td>\n",
       "      <td>0.440127</td>\n",
       "      <td>0.690207</td>\n",
       "      <td>0.606559</td>\n",
       "    </tr>\n",
       "    <tr>\n",
       "      <th>3562</th>\n",
       "      <td>0.714286</td>\n",
       "      <td>0.536901</td>\n",
       "      <td>0.501008</td>\n",
       "      <td>0.582317</td>\n",
       "      <td>0.352867</td>\n",
       "      <td>0.696037</td>\n",
       "    </tr>\n",
       "    <tr>\n",
       "      <th>4571</th>\n",
       "      <td>0.428571</td>\n",
       "      <td>0.686792</td>\n",
       "      <td>0.467370</td>\n",
       "      <td>0.503107</td>\n",
       "      <td>0.608858</td>\n",
       "      <td>0.621632</td>\n",
       "    </tr>\n",
       "    <tr>\n",
       "      <th>4841</th>\n",
       "      <td>1.000000</td>\n",
       "      <td>0.556709</td>\n",
       "      <td>0.447695</td>\n",
       "      <td>0.466372</td>\n",
       "      <td>0.635015</td>\n",
       "      <td>0.533029</td>\n",
       "    </tr>\n",
       "    <tr>\n",
       "      <th>...</th>\n",
       "      <td>...</td>\n",
       "      <td>...</td>\n",
       "      <td>...</td>\n",
       "      <td>...</td>\n",
       "      <td>...</td>\n",
       "      <td>...</td>\n",
       "    </tr>\n",
       "    <tr>\n",
       "      <th>3223</th>\n",
       "      <td>0.000000</td>\n",
       "      <td>0.367086</td>\n",
       "      <td>0.146480</td>\n",
       "      <td>0.733926</td>\n",
       "      <td>0.359836</td>\n",
       "      <td>0.349303</td>\n",
       "    </tr>\n",
       "    <tr>\n",
       "      <th>4508</th>\n",
       "      <td>0.428571</td>\n",
       "      <td>0.830124</td>\n",
       "      <td>0.510378</td>\n",
       "      <td>0.596740</td>\n",
       "      <td>0.529631</td>\n",
       "      <td>0.569162</td>\n",
       "    </tr>\n",
       "    <tr>\n",
       "      <th>4345</th>\n",
       "      <td>0.857143</td>\n",
       "      <td>0.832031</td>\n",
       "      <td>0.772472</td>\n",
       "      <td>0.841057</td>\n",
       "      <td>0.390287</td>\n",
       "      <td>1.000000</td>\n",
       "    </tr>\n",
       "    <tr>\n",
       "      <th>4219</th>\n",
       "      <td>1.000000</td>\n",
       "      <td>0.653756</td>\n",
       "      <td>0.601608</td>\n",
       "      <td>0.670919</td>\n",
       "      <td>0.184045</td>\n",
       "      <td>0.816836</td>\n",
       "    </tr>\n",
       "    <tr>\n",
       "      <th>8485</th>\n",
       "      <td>0.000000</td>\n",
       "      <td>0.683996</td>\n",
       "      <td>0.042378</td>\n",
       "      <td>0.781646</td>\n",
       "      <td>0.542232</td>\n",
       "      <td>0.237367</td>\n",
       "    </tr>\n",
       "  </tbody>\n",
       "</table>\n",
       "<p>7396 rows × 6 columns</p>\n",
       "</div>"
      ],
      "text/plain": [
       "      blood_group  leukocytes  erytrocytes  hematocrit  trombocytes       alt\n",
       "1430     0.571429    0.648442     0.480132    0.684346     0.261935  0.600083\n",
       "7064     0.285714    0.737344     0.400938    0.440127     0.690207  0.606559\n",
       "3562     0.714286    0.536901     0.501008    0.582317     0.352867  0.696037\n",
       "4571     0.428571    0.686792     0.467370    0.503107     0.608858  0.621632\n",
       "4841     1.000000    0.556709     0.447695    0.466372     0.635015  0.533029\n",
       "...           ...         ...          ...         ...          ...       ...\n",
       "3223     0.000000    0.367086     0.146480    0.733926     0.359836  0.349303\n",
       "4508     0.428571    0.830124     0.510378    0.596740     0.529631  0.569162\n",
       "4345     0.857143    0.832031     0.772472    0.841057     0.390287  1.000000\n",
       "4219     1.000000    0.653756     0.601608    0.670919     0.184045  0.816836\n",
       "8485     0.000000    0.683996     0.042378    0.781646     0.542232  0.237367\n",
       "\n",
       "[7396 rows x 6 columns]"
      ]
     },
     "execution_count": 73,
     "metadata": {},
     "output_type": "execute_result"
    }
   ],
   "source": [
    "output_data"
   ]
  },
  {
   "cell_type": "markdown",
   "metadata": {},
   "source": [
    "Exportovanie modelu do .csv súboru"
   ]
  },
  {
   "cell_type": "code",
   "execution_count": 74,
   "metadata": {},
   "outputs": [],
   "source": [
    "output_data.to_csv('dataForML.csv', index=False)"
   ]
  }
 ],
 "metadata": {
  "kernelspec": {
   "display_name": "Python 3 (ipykernel)",
   "language": "python",
   "name": "python3"
  },
  "language_info": {
   "codemirror_mode": {
    "name": "ipython",
    "version": 3
   },
   "file_extension": ".py",
   "mimetype": "text/x-python",
   "name": "python",
   "nbconvert_exporter": "python",
   "pygments_lexer": "ipython3",
   "version": "3.10.0"
  }
 },
 "nbformat": 4,
 "nbformat_minor": 1
}
